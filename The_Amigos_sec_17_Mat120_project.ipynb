{
  "nbformat": 4,
  "nbformat_minor": 0,
  "metadata": {
    "colab": {
      "provenance": []
    },
    "kernelspec": {
      "name": "python3",
      "display_name": "Python 3"
    },
    "language_info": {
      "name": "python"
    }
  },
  "cells": [
    {
      "cell_type": "markdown",
      "source": [
        "#Group members :\n",
        "1. Maisha Mahjabin Nidhi - 22321071\n",
        "2. Rabaya Farzana Sikder - 22101728\n",
        "3. Pritha Bhowmik - 22121021\n",
        "4. Wardat Shams Iqbal - 22201704\n",
        "5. Rumman Shahriar - 22101334\n"
      ],
      "metadata": {
        "id": "A7DB38U3ViRg"
      }
    },
    {
      "cell_type": "markdown",
      "source": [
        "#Problem :\n",
        "Suppose the equation of a car's velocity is given,\\\n",
        "\\begin{equation} v = x^{2}+2x+1 \\end{equation} \\\\\n",
        "#Question 1\n",
        "a) Findout the displacement between 0 to 4 seceonds. [here x is referred as time]\n",
        "\n",
        "b) Findout equation of acceleration of the car. "
      ],
      "metadata": {
        "id": "5mTPtrPDjAYb"
      }
    },
    {
      "cell_type": "markdown",
      "source": [
        "#1.a"
      ],
      "metadata": {
        "id": "tWT-MMCNZXFZ"
      }
    },
    {
      "cell_type": "markdown",
      "source": [
        "we have to find out the distance from the starting point to the last ending point. so total distance will be area under the curve where the curve is the function f(x) = v. "
      ],
      "metadata": {
        "id": "Rynua7YVrvW0"
      }
    },
    {
      "cell_type": "code",
      "source": [
        "import matplotlib.pyplot as plt\n",
        "import numpy as np\n",
        "import sympy as sy"
      ],
      "metadata": {
        "id": "5fbeMog0P0aI"
      },
      "execution_count": null,
      "outputs": []
    },
    {
      "cell_type": "code",
      "source": [
        "x = np.linspace(-5, 5, 1000)\n",
        "def f(x) :\n",
        "  return x**2 + 2*x + 1"
      ],
      "metadata": {
        "id": "HJfS6UfAQHEA"
      },
      "execution_count": null,
      "outputs": []
    },
    {
      "cell_type": "code",
      "source": [
        "plt.xlabel(\"x\")\n",
        "plt.ylabel(\"v\")\n",
        "plt.grid()\n",
        "plt.title(\"v = x**2 + 2*x + 1\")\n",
        "\n",
        "plt.plot(x,f(x))\n",
        "plt.axhline(color = \"black\")   # x axis\n",
        "plt.axvline(color =\"black\")   # y axis\n",
        "plt.fill_between(x,f(x),where = [(x > 0) and (x <= 4) for x in x ], color = \"purple\", alpha = 0.3)"
      ],
      "metadata": {
        "colab": {
          "base_uri": "https://localhost:8080/",
          "height": 489
        },
        "id": "Te-_4FRvQXC2",
        "outputId": "8314bdef-73a5-4074-f79b-ce752bc29337"
      },
      "execution_count": null,
      "outputs": [
        {
          "output_type": "execute_result",
          "data": {
            "text/plain": [
              "<matplotlib.collections.PolyCollection at 0x7effd054adf0>"
            ]
          },
          "metadata": {},
          "execution_count": 11
        },
        {
          "output_type": "display_data",
          "data": {
            "text/plain": [
              "<Figure size 640x480 with 1 Axes>"
            ],
            "image/png": "[encoded data removed]"
          },
          "metadata": {}
        }
      ]
    },
    {
      "cell_type": "code",
      "source": [
        "x = sy.Symbol(\"x\")\n",
        "s = sy.integrate(f(x),(x,0,4))\n",
        "print(\"Answer: s = \",s)"
      ],
      "metadata": {
        "colab": {
          "base_uri": "https://localhost:8080/"
        },
        "id": "6O2Rn6LSSKkJ",
        "outputId": "85249628-b230-4eb2-fcbc-4ca0895c1de9"
      },
      "execution_count": null,
      "outputs": [
        {
          "output_type": "stream",
          "name": "stdout",
          "text": [
            "Answer: s =  124/3\n"
          ]
        }
      ]
    },
    {
      "cell_type": "markdown",
      "source": [
        "#1.b"
      ],
      "metadata": {
        "id": "UXpC5UzoiBfT"
      }
    },
    {
      "cell_type": "markdown",
      "source": [
        "We know the d/dx of v is equal to acceleration equation."
      ],
      "metadata": {
        "id": "EM-8438bsSz5"
      }
    },
    {
      "cell_type": "code",
      "source": [
        "import sympy as sp\n",
        "\n",
        "x = sp.symbols(\"x\")\n",
        "\n",
        "f = x**2 + 2*x + 1\n",
        "df1 = sp.diff(f,x)\n",
        "print(\"Answer: the equation of a = \",df1)"
      ],
      "metadata": {
        "colab": {
          "base_uri": "https://localhost:8080/"
        },
        "id": "l6ybsk6liDpq",
        "outputId": "e6438e17-b762-4fe2-bd07-561e4c4d75ec"
      },
      "execution_count": null,
      "outputs": [
        {
          "output_type": "stream",
          "name": "stdout",
          "text": [
            "Answer: the equation of a =  2*x + 2\n"
          ]
        }
      ]
    }
  ]
}